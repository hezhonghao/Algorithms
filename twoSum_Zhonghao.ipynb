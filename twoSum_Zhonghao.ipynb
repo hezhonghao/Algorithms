{
  "nbformat": 4,
  "nbformat_minor": 0,
  "metadata": {
    "colab": {
      "provenance": [],
      "authorship_tag": "ABX9TyMRzjGTo3LSbRUflEMeBp/M",
      "include_colab_link": true
    },
    "kernelspec": {
      "name": "python3",
      "display_name": "Python 3"
    },
    "language_info": {
      "name": "python"
    }
  },
  "cells": [
    {
      "cell_type": "markdown",
      "metadata": {
        "id": "view-in-github",
        "colab_type": "text"
      },
      "source": [
        "<a href=\"https://colab.research.google.com/github/hezhonghao/Algorithms/blob/main/twoSum_Zhonghao.ipynb\" target=\"_parent\"><img src=\"https://colab.research.google.com/assets/colab-badge.svg\" alt=\"Open In Colab\"/></a>"
      ]
    },
    {
      "cell_type": "markdown",
      "source": [
        "ZH Dec 19, 2023\n",
        "https://leetcode.com/problems/two-sum/\n"
      ],
      "metadata": {
        "id": "X_dM1sgT2eCt"
      }
    },
    {
      "cell_type": "code",
      "execution_count": null,
      "metadata": {
        "id": "I-9eIgPw2X1I"
      },
      "outputs": [],
      "source": [
        "\n"
      ]
    },
    {
      "cell_type": "code",
      "source": [
        "# Logic\n",
        "# You go through the two list and find index where the corresponding items added up to the target.\n",
        "# After you go through one item you should delete it becasue each item one time\n",
        "# Edge case: maybe the same itens in both lists?\n",
        "class Solution:\n",
        "    def twoSum(self, nums: List[int], target: int) -> List[int]:\n",
        "        for index, item in enumerate(nums):\n",
        "            nums2 = nums.copy()\n",
        "            del nums2[index] # for the second for loop, you don't want a used item\n",
        "            for item2 in nums2: # This is a wrong index for original list\n",
        "\n",
        "                if item + item2 == target:\n",
        "                    index2 = [inx for inx, itm in enumerate(nums) if item2 == itm and inx != index][0]  # the index of that item in nums\n",
        "                    return [index, index2]\n",
        "\n",
        "\n",
        "\n",
        "\n",
        ""
      ],
      "metadata": {
        "id": "l-rEVcy12Yiw"
      },
      "execution_count": null,
      "outputs": []
    }
  ]
}