{
  "nbformat": 4,
  "nbformat_minor": 0,
  "metadata": {
    "colab": {
      "provenance": [],
      "authorship_tag": "ABX9TyMDrNYhFJZuEDhhc9n4qDqe",
      "include_colab_link": true
    },
    "kernelspec": {
      "name": "python3",
      "display_name": "Python 3"
    },
    "language_info": {
      "name": "python"
    }
  },
  "cells": [
    {
      "cell_type": "markdown",
      "metadata": {
        "id": "view-in-github",
        "colab_type": "text"
      },
      "source": [
        "<a href=\"https://colab.research.google.com/github/hezhonghao/Algorithms/blob/main/Simple_Python_code_shows_how_recursive_call_works%2C_beautiful.ipynb\" target=\"_parent\"><img src=\"https://colab.research.google.com/assets/colab-badge.svg\" alt=\"Open In Colab\"/></a>"
      ]
    },
    {
      "cell_type": "markdown",
      "source": [
        "Zhonghao's Note\n",
        "- I was very confused about the procedure of recursive call. Specifically, I don't know how does any code after the recursive call works (when will the algorithm calls them (like the 2nd print here)? how many times will the algo call them?\n",
        "- It reveals itself clearly here:\n",
        "The last recursion ***finish first***, and the first recursive ***finish last***.\n",
        "- This is equivalent of saying, the last print is actually the print of the first recursive call.\n"
      ],
      "metadata": {
        "id": "D9wJneAzq0A3"
      }
    },
    {
      "cell_type": "code",
      "execution_count": 1,
      "metadata": {
        "colab": {
          "base_uri": "https://localhost:8080/"
        },
        "id": "WvaoT6LTql_V",
        "outputId": "5da1e3ee-269c-47d7-8cc1-c648456421dd"
      },
      "outputs": [
        {
          "output_type": "stream",
          "name": "stdout",
          "text": [
            "can we know every recursive run, a is 2 and b is 2 now\n",
            "can we know every recursive run, a is 3 and b is 3 now\n",
            "can we know every recursive run, a is 4 and b is 4 now\n",
            "can we know every recursive run, a is 5 and b is 5 now\n",
            "can we know every recursive run, a is 6 and b is 6 now\n",
            "can we know every recursive run, a is 7 and b is 7 now\n",
            "can we know every recursive run, a is 8 and b is 8 now\n",
            "can we know every recursive run, a is 9 and b is 9 now\n",
            "b after recursive call is 10; a after recursive call is 10\n",
            "b after recursive call is 10; a after recursive call is 9\n",
            "b after recursive call is 10; a after recursive call is 8\n",
            "b after recursive call is 10; a after recursive call is 7\n",
            "b after recursive call is 10; a after recursive call is 6\n",
            "b after recursive call is 10; a after recursive call is 5\n",
            "b after recursive call is 10; a after recursive call is 4\n",
            "b after recursive call is 10; a after recursive call is 3\n",
            "b after recursive call is 10; a after recursive call is 2\n"
          ]
        },
        {
          "output_type": "execute_result",
          "data": {
            "text/plain": [
              "10"
            ]
          },
          "metadata": {},
          "execution_count": 1
        }
      ],
      "source": [
        "def recursive_test(a):\n",
        "  a += 1\n",
        "  b = a\n",
        "  c = 0\n",
        "  if b < 10:\n",
        "    print(f'can we know every recursive run, a is {a} and b is {b} now')\n",
        "    b = recursive_test(a)\n",
        "  print(f'b after recursive call is {b}; a after recursive call is {a}')\n",
        "  return b\n",
        "recursive_test(a=1)"
      ]
    }
  ]
}