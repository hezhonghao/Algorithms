{
  "nbformat": 4,
  "nbformat_minor": 0,
  "metadata": {
    "colab": {
      "provenance": [],
      "authorship_tag": "ABX9TyMZtk2ef0Z/CkBeuPFn8ydh",
      "include_colab_link": true
    },
    "kernelspec": {
      "name": "python3",
      "display_name": "Python 3"
    },
    "language_info": {
      "name": "python"
    }
  },
  "cells": [
    {
      "cell_type": "markdown",
      "metadata": {
        "id": "view-in-github",
        "colab_type": "text"
      },
      "source": [
        "<a href=\"https://colab.research.google.com/github/hezhonghao/Algorithms/blob/main/The_confusing_self_and_super()_on_Python.ipynb\" target=\"_parent\"><img src=\"https://colab.research.google.com/assets/colab-badge.svg\" alt=\"Open In Colab\"/></a>"
      ]
    },
    {
      "cell_type": "markdown",
      "source": [
        "I am creating this notebook to once-and-for-all clarify self and super(), since I have been confused for a long while.\n",
        "\n",
        "I hope this notebook will also solve your problems."
      ],
      "metadata": {
        "id": "jGiLAgZop52U"
      }
    },
    {
      "cell_type": "markdown",
      "source": [
        "## What do self and super() do respectively?\n",
        "\n",
        "- self: It tells Python that it will be the *current instance* that calls this method.\n",
        "  - *current instance: whatever instance passing through the current class, or subclass, not the instance passing through its parent class\n",
        "  - Self is the thing that links all the methods within the class with the current instance\n",
        "  - Using a real-world analogue, \"self\" would be a \"student card\". If you are a student of Harvard (an instance of a class \"Harvard students\"), then when using this student card, this self, you can walk in any Harvard buildings with this \"identifier\", as long as it's allowed to walk in. \"Self\" tells everybody who you are.\n",
        "\n",
        "- super(): It calls for methods of its parent class, using instance passed along in current class.\n",
        "\n",
        "  - Inheritance in object-facing programming language - Python is an object-facing programming language, meaning everything defined there is an \"object\". System-defined things are objects, including str, int, float etc, and user-defined classes are objects. Whem you define a new class, you inherit properities and methods of your parental classes. Like A Ragdoll would have all the properties of cats, cats have that of animals. When you define a specific Ragdoll \"Thomas\", Thomas will have all the properties of not only Ragdoll's, but cat's, and animal's."
      ],
      "metadata": {
        "id": "BA5XwVdsqPr8"
      }
    },
    {
      "cell_type": "code",
      "execution_count": null,
      "metadata": {
        "id": "s054mQnSpwEg",
        "colab": {
          "base_uri": "https://localhost:8080/"
        },
        "outputId": "fe2a09fd-5dc5-4c17-c61b-efc789e7bff6"
      },
      "outputs": [
        {
          "output_type": "stream",
          "name": "stdout",
          "text": [
            "Here is where you define global variables and attributes\n",
            "The doggie name is Thomas\n",
            "This is an evidence of the instance going through the method_A, and you have the local variable Just_local_placeholder\n"
          ]
        }
      ],
      "source": [
        "# A demonstration of how self is used\n",
        "\n",
        "class Dog():  # This class directly inherits from the object\n",
        "  def __init__(self, doggie_name):\n",
        "    self.doggie_name = doggie_name\n",
        "    print(\"Here is where you define global variables and attributes\")\n",
        "    print(f'The doggie name is {doggie_name}')\n",
        "  def method_A(self, local_variable):\n",
        "    print(f\"This is an evidence of the instance going through the method_A, and you have the local variable {local_variable}\")\n",
        "\n",
        "Thomas = Dog(\"Thomas\")\n",
        "Thomas.method_A(\"Just_local_placeholder\")\n",
        "\n"
      ]
    },
    {
      "cell_type": "code",
      "source": [],
      "metadata": {
        "id": "hY5U3M5SHIJx"
      },
      "execution_count": null,
      "outputs": []
    },
    {
      "cell_type": "code",
      "source": [
        "# A demonstration of how super() is used\n",
        "class Ragdoll(Dog):   # We are creating a sub-class of Dog\n",
        "  def __init__(self, doggie_name):\n",
        "    super().__init__(doggie_name)   # by this it should have inherited all methods and attributes from Dog(), but passing along current instance\n",
        "    # You should first see this super() as a normal calling a thing outside of the function but using the instance passed along within the function.\n",
        "    # So you have to pass along the argument in there.\n",
        "    # Then the specific functionality of super() is to be able to call everything in its parent class, methods or attributes.\n",
        "    # But notice that this super() thing is defined within the __init__, as it is here.\n",
        "  def method_B():\n",
        "    pass\n",
        "\n",
        "\n",
        "Cookie = Ragdoll(\"cookie\")\n",
        "Cookie.method_A(\"Just_local_placeholder_4_cookie\")"
      ],
      "metadata": {
        "colab": {
          "base_uri": "https://localhost:8080/"
        },
        "id": "-HGb8WUiFUjS",
        "outputId": "56accbde-8d4a-439d-d523-6c769d93071c"
      },
      "execution_count": null,
      "outputs": [
        {
          "output_type": "stream",
          "name": "stdout",
          "text": [
            "Here is where you define global variables and attributes\n",
            "The doggie name is cookie\n",
            "This is an evidence of the instance going through the method_A, and you have the local variable Just_local_placeholder_4_cookie\n"
          ]
        }
      ]
    },
    {
      "cell_type": "code",
      "source": [],
      "metadata": {
        "id": "Hcy_5w_HIBKe"
      },
      "execution_count": null,
      "outputs": []
    }
  ]
}